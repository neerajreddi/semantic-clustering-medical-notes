{
 "cells": [
  {
   "cell_type": "code",
   "execution_count": 1,
   "id": "4ac79f16",
   "metadata": {},
   "outputs": [
    {
     "data": {
      "text/html": [
       "<div>\n",
       "<style scoped>\n",
       "    .dataframe tbody tr th:only-of-type {\n",
       "        vertical-align: middle;\n",
       "    }\n",
       "\n",
       "    .dataframe tbody tr th {\n",
       "        vertical-align: top;\n",
       "    }\n",
       "\n",
       "    .dataframe thead th {\n",
       "        text-align: right;\n",
       "    }\n",
       "</style>\n",
       "<table border=\"1\" class=\"dataframe\">\n",
       "  <thead>\n",
       "    <tr style=\"text-align: right;\">\n",
       "      <th></th>\n",
       "      <th>instruction</th>\n",
       "      <th>input</th>\n",
       "      <th>output</th>\n",
       "    </tr>\n",
       "  </thead>\n",
       "  <tbody>\n",
       "    <tr>\n",
       "      <th>0</th>\n",
       "      <td>Analyse the input and categorize into respecti...</td>\n",
       "      <td>Patient John Smith needs to be directed to ort...</td>\n",
       "      <td>DOCUMENT_UPLOAD</td>\n",
       "    </tr>\n",
       "    <tr>\n",
       "      <th>1</th>\n",
       "      <td>Analyse the input and categorize into respecti...</td>\n",
       "      <td>Progress report for patient case #4521: Curren...</td>\n",
       "      <td>DOCUMENT_UPLOAD</td>\n",
       "    </tr>\n",
       "    <tr>\n",
       "      <th>2</th>\n",
       "      <td>Analyse the input and categorize into respecti...</td>\n",
       "      <td>Invoice #INV-2024-001 for physical therapy ses...</td>\n",
       "      <td>DOCUMENT_UPLOAD</td>\n",
       "    </tr>\n",
       "    <tr>\n",
       "      <th>3</th>\n",
       "      <td>Analyse the input and categorize into respecti...</td>\n",
       "      <td>Prior approval required for MRI scan scheduled...</td>\n",
       "      <td>DOCUMENT_UPLOAD</td>\n",
       "    </tr>\n",
       "    <tr>\n",
       "      <th>4</th>\n",
       "      <td>Analyse the input and categorize into respecti...</td>\n",
       "      <td>Directing patient Mary Johnson to cardiology d...</td>\n",
       "      <td>DOCUMENT_UPLOAD</td>\n",
       "    </tr>\n",
       "  </tbody>\n",
       "</table>\n",
       "</div>"
      ],
      "text/plain": [
       "                                         instruction  \\\n",
       "0  Analyse the input and categorize into respecti...   \n",
       "1  Analyse the input and categorize into respecti...   \n",
       "2  Analyse the input and categorize into respecti...   \n",
       "3  Analyse the input and categorize into respecti...   \n",
       "4  Analyse the input and categorize into respecti...   \n",
       "\n",
       "                                               input           output  \n",
       "0  Patient John Smith needs to be directed to ort...  DOCUMENT_UPLOAD  \n",
       "1  Progress report for patient case #4521: Curren...  DOCUMENT_UPLOAD  \n",
       "2  Invoice #INV-2024-001 for physical therapy ses...  DOCUMENT_UPLOAD  \n",
       "3  Prior approval required for MRI scan scheduled...  DOCUMENT_UPLOAD  \n",
       "4  Directing patient Mary Johnson to cardiology d...  DOCUMENT_UPLOAD  "
      ]
     },
     "execution_count": 1,
     "metadata": {},
     "output_type": "execute_result"
    }
   ],
   "source": [
    "#loading the dataset and preiview the dataset\n",
    "import pandas as pd\n",
    "\n",
    "df = pd.read_csv(\"Trainer data(Sheet21).csv\")\n",
    "df.head()\n"
   ]
  },
  {
   "cell_type": "code",
   "execution_count": 2,
   "id": "b797a5df",
   "metadata": {},
   "outputs": [
    {
     "name": "stdout",
     "output_type": "stream",
     "text": [
      "Total rows: 280\n",
      "Null inputs: 0\n"
     ]
    }
   ],
   "source": [
    "# Check for null values in the 'input' column\n",
    "print(\"Total rows:\", len(df))\n",
    "print(\"Null inputs:\", df['input'].isnull().sum())\n"
   ]
  },
  {
   "cell_type": "code",
   "execution_count": 3,
   "id": "474c4c75",
   "metadata": {},
   "outputs": [],
   "source": [
    "#Text preprocessing \n",
    "#converting the text into lower case\n",
    "\n",
    "# Convert all text in 'input' column to lowercase\n",
    "df['input'] = df['input'].str.lower()\n"
   ]
  },
  {
   "cell_type": "code",
   "execution_count": 4,
   "id": "4ff87820",
   "metadata": {},
   "outputs": [
    {
     "name": "stderr",
     "output_type": "stream",
     "text": [
      "[nltk_data] Downloading package stopwords to\n",
      "[nltk_data]     C:\\Users\\91798\\AppData\\Roaming\\nltk_data...\n",
      "[nltk_data]   Package stopwords is already up-to-date!\n"
     ]
    }
   ],
   "source": [
    "import re\n",
    "import nltk\n",
    "from nltk.corpus import stopwords\n",
    "\n",
    "nltk.download('stopwords')\n",
    "stop_words = set(stopwords.words('english'))\n",
    "\n",
    "def clean_text(text):\n",
    "    # Remove punctuation except $ and /\n",
    "    text = re.sub(r'[^\\w\\s$/]', '', text)\n",
    "    \n",
    "    # Normalize whitespace\n",
    "    text = re.sub(r'\\s+', ' ', text).strip()\n",
    "    \n",
    "    # Remove stopwords\n",
    "    words = text.split()\n",
    "    filtered = [word for word in words if word not in stop_words]\n",
    "    \n",
    "    return ' '.join(filtered)\n"
   ]
  },
  {
   "cell_type": "code",
   "execution_count": 5,
   "id": "eb6e48c2",
   "metadata": {},
   "outputs": [],
   "source": [
    "#applying the clean_text function to the input feature.\n",
    "df['input'] = df['input'].apply(clean_text)\n"
   ]
  },
  {
   "cell_type": "code",
   "execution_count": 6,
   "id": "080977d2",
   "metadata": {},
   "outputs": [
    {
     "name": "stderr",
     "output_type": "stream",
     "text": [
      "c:\\Users\\91798\\OneDrive\\Desktop\\clustering\\venv\\Lib\\site-packages\\tqdm\\auto.py:21: TqdmWarning: IProgress not found. Please update jupyter and ipywidgets. See https://ipywidgets.readthedocs.io/en/stable/user_install.html\n",
      "  from .autonotebook import tqdm as notebook_tqdm\n"
     ]
    }
   ],
   "source": [
    "from sentence_transformers import SentenceTransformer\n",
    "\n",
    "# Load a pre-trained SBERT model\n",
    "model = SentenceTransformer('all-MiniLM-L6-v2')\n"
   ]
  },
  {
   "cell_type": "code",
   "execution_count": 7,
   "id": "4ae1c850",
   "metadata": {},
   "outputs": [
    {
     "name": "stderr",
     "output_type": "stream",
     "text": [
      "Batches: 100%|██████████| 9/9 [00:02<00:00,  3.62it/s]\n"
     ]
    }
   ],
   "source": [
    "# Convert sentences in the 'input' column to sentence embeddings\n",
    "embeddings = model.encode(df['input'].tolist(), show_progress_bar=True)\n"
   ]
  },
  {
   "cell_type": "code",
   "execution_count": 8,
   "id": "a8cc6d75",
   "metadata": {},
   "outputs": [
    {
     "name": "stderr",
     "output_type": "stream",
     "text": [
      "c:\\Users\\91798\\OneDrive\\Desktop\\clustering\\venv\\Lib\\site-packages\\umap\\umap_.py:1952: UserWarning: n_jobs value 1 overridden to 1 by setting random_state. Use no seed for parallelism.\n",
      "  warn(\n"
     ]
    }
   ],
   "source": [
    "# Dimensionality Reduction\n",
    "\n",
    "import umap\n",
    "\n",
    "# Create UMAP reducer object\n",
    "reducer = umap.UMAP(n_neighbors=15, n_components=5, metric='cosine', random_state=42)\n",
    "\n",
    "# Reduce dimensions of SBERT embeddings\n",
    "reduced_embeddings = reducer.fit_transform(embeddings)\n"
   ]
  },
  {
   "cell_type": "code",
   "execution_count": 9,
   "id": "44147de1",
   "metadata": {},
   "outputs": [
    {
     "name": "stdout",
     "output_type": "stream",
     "text": [
      "Before UMAP (SBERT Embeddings) Shape: (280, 384)\n",
      "After UMAP (Reduced Embeddings) Shape: (280, 5)\n"
     ]
    }
   ],
   "source": [
    "# Before UMAP\n",
    "print(\"Before UMAP (SBERT Embeddings) Shape:\", embeddings.shape)\n",
    "\n",
    "# After UMAP\n",
    "print(\"After UMAP (Reduced Embeddings) Shape:\", reduced_embeddings.shape)\n"
   ]
  },
  {
   "cell_type": "code",
   "execution_count": 10,
   "id": "a7a8c162",
   "metadata": {},
   "outputs": [
    {
     "name": "stderr",
     "output_type": "stream",
     "text": [
      "c:\\Users\\91798\\OneDrive\\Desktop\\clustering\\venv\\Lib\\site-packages\\sklearn\\utils\\deprecation.py:132: FutureWarning: 'force_all_finite' was renamed to 'ensure_all_finite' in 1.6 and will be removed in 1.8.\n",
      "  warnings.warn(\n",
      "c:\\Users\\91798\\OneDrive\\Desktop\\clustering\\venv\\Lib\\site-packages\\sklearn\\utils\\deprecation.py:132: FutureWarning: 'force_all_finite' was renamed to 'ensure_all_finite' in 1.6 and will be removed in 1.8.\n",
      "  warnings.warn(\n"
     ]
    }
   ],
   "source": [
    "# clustering using the HDBscan\n",
    "\n",
    "import hdbscan\n",
    "\n",
    "# Initialize HDBSCAN with common parameters\n",
    "clusterer = hdbscan.HDBSCAN(min_cluster_size=5, metric='euclidean')\n",
    "\n",
    "# Fit to the reduced embeddings\n",
    "cluster_labels = clusterer.fit_predict(reduced_embeddings)\n",
    "\n"
   ]
  },
  {
   "cell_type": "code",
   "execution_count": 11,
   "id": "53cb92bd",
   "metadata": {},
   "outputs": [],
   "source": [
    "import warnings\n",
    "warnings.filterwarnings(\"ignore\", category=FutureWarning)\n"
   ]
  },
  {
   "cell_type": "code",
   "execution_count": 12,
   "id": "cd2a288e",
   "metadata": {},
   "outputs": [],
   "source": [
    "df['cluster'] = cluster_labels\n"
   ]
  },
  {
   "cell_type": "code",
   "execution_count": 13,
   "id": "bd63efa6",
   "metadata": {},
   "outputs": [
    {
     "data": {
      "text/html": [
       "<div>\n",
       "<style scoped>\n",
       "    .dataframe tbody tr th:only-of-type {\n",
       "        vertical-align: middle;\n",
       "    }\n",
       "\n",
       "    .dataframe tbody tr th {\n",
       "        vertical-align: top;\n",
       "    }\n",
       "\n",
       "    .dataframe thead th {\n",
       "        text-align: right;\n",
       "    }\n",
       "</style>\n",
       "<table border=\"1\" class=\"dataframe\">\n",
       "  <thead>\n",
       "    <tr style=\"text-align: right;\">\n",
       "      <th></th>\n",
       "      <th>input</th>\n",
       "      <th>cluster</th>\n",
       "    </tr>\n",
       "  </thead>\n",
       "  <tbody>\n",
       "    <tr>\n",
       "      <th>200</th>\n",
       "      <td>connect patient pain management specialist chr...</td>\n",
       "      <td>1</td>\n",
       "    </tr>\n",
       "    <tr>\n",
       "      <th>180</th>\n",
       "      <td>send patient interventional cardiology complex...</td>\n",
       "      <td>1</td>\n",
       "    </tr>\n",
       "    <tr>\n",
       "      <th>23</th>\n",
       "      <td>prior consent required experimental treatment ...</td>\n",
       "      <td>1</td>\n",
       "    </tr>\n",
       "    <tr>\n",
       "      <th>37</th>\n",
       "      <td>clinical assessment update patient tolerance n...</td>\n",
       "      <td>1</td>\n",
       "    </tr>\n",
       "    <tr>\n",
       "      <th>208</th>\n",
       "      <td>send patient orthopedic oncology bone tumor ev...</td>\n",
       "      <td>1</td>\n",
       "    </tr>\n",
       "    <tr>\n",
       "      <th>152</th>\n",
       "      <td>send patient endocrine surgery thyroid nodule ...</td>\n",
       "      <td>1</td>\n",
       "    </tr>\n",
       "    <tr>\n",
       "      <th>125</th>\n",
       "      <td>medication reconciliation notes patient unders...</td>\n",
       "      <td>1</td>\n",
       "    </tr>\n",
       "    <tr>\n",
       "      <th>199</th>\n",
       "      <td>approval sought personalized cancer vaccine tu...</td>\n",
       "      <td>1</td>\n",
       "    </tr>\n",
       "    <tr>\n",
       "      <th>202</th>\n",
       "      <td>professional services billing consultation pro...</td>\n",
       "      <td>0</td>\n",
       "    </tr>\n",
       "    <tr>\n",
       "      <th>86</th>\n",
       "      <td>account balance update patient 45789 previous ...</td>\n",
       "      <td>0</td>\n",
       "    </tr>\n",
       "  </tbody>\n",
       "</table>\n",
       "</div>"
      ],
      "text/plain": [
       "                                                 input  cluster\n",
       "200  connect patient pain management specialist chr...        1\n",
       "180  send patient interventional cardiology complex...        1\n",
       "23   prior consent required experimental treatment ...        1\n",
       "37   clinical assessment update patient tolerance n...        1\n",
       "208  send patient orthopedic oncology bone tumor ev...        1\n",
       "152  send patient endocrine surgery thyroid nodule ...        1\n",
       "125  medication reconciliation notes patient unders...        1\n",
       "199  approval sought personalized cancer vaccine tu...        1\n",
       "202  professional services billing consultation pro...        0\n",
       "86   account balance update patient 45789 previous ...        0"
      ]
     },
     "execution_count": 13,
     "metadata": {},
     "output_type": "execute_result"
    }
   ],
   "source": [
    "# Display a random sample of 10 sentences with their assigned cluster label\n",
    "df[['input', 'cluster']].sample(10)\n"
   ]
  },
  {
   "cell_type": "code",
   "execution_count": 14,
   "id": "ec391dbb",
   "metadata": {},
   "outputs": [
    {
     "name": "stdout",
     "output_type": "stream",
     "text": [
      "Number of clusters (excluding noise): 2\n"
     ]
    }
   ],
   "source": [
    "# Count the number of unique clusters (excluding noise labeled as -1)\n",
    "num_clusters = len(set(cluster_labels)) - (1 if -1 in cluster_labels else 0)\n",
    "print(f\"Number of clusters (excluding noise): {num_clusters}\")\n"
   ]
  },
  {
   "cell_type": "code",
   "execution_count": 15,
   "id": "d4990f97",
   "metadata": {},
   "outputs": [
    {
     "name": "stdout",
     "output_type": "stream",
     "text": [
      "Number of points in each cluster:\n",
      " cluster\n",
      "0     68\n",
      "1    212\n",
      "Name: count, dtype: int64\n"
     ]
    }
   ],
   "source": [
    "# Display number of sentences in each cluster (including noise)\n",
    "cluster_counts = df['cluster'].value_counts().sort_index()\n",
    "print(\"Number of points in each cluster:\\n\", cluster_counts)\n"
   ]
  },
  {
   "cell_type": "markdown",
   "id": "7d2824e2",
   "metadata": {},
   "source": [
    "Model Choice Justification\n",
    "Initially, I used HDBSCAN due to its ability to detect clusters of varying densities and handle noise without needing a predefined number of clusters.\n",
    "\n",
    "However, in this case:\n",
    "\n",
    "It detected only 2 clusters, despite the dataset containing 6 meaningful themes\n",
    "\n",
    "This was likely due to low-density separation in the SBERT embeddings after UMAP reduction\n",
    "\n",
    "To address this, I switched to KMeans, where I could:\n",
    "\n",
    "Set the number of clusters explicitly (n_clusters = 6)\n",
    "\n",
    "Achieve better semantic separation and higher interpretability"
   ]
  },
  {
   "cell_type": "code",
   "execution_count": 16,
   "id": "d5691169",
   "metadata": {},
   "outputs": [],
   "source": [
    "from sklearn.cluster import KMeans\n",
    "\n",
    "\n",
    "# Apply KMeans clustering on the reduced embeddings\n",
    "kmeans = KMeans(n_clusters=6, random_state=42, n_init='auto')\n",
    "cluster_labels_kmeans = kmeans.fit_predict(reduced_embeddings)\n",
    "\n",
    "# Attach labels back to the original DataFrame (but only with input column)\n",
    "df_clean = df[['input']].copy()\n",
    "df_clean['cluster_kmeans'] = cluster_labels_kmeans\n"
   ]
  },
  {
   "cell_type": "code",
   "execution_count": 17,
   "id": "48ad806c",
   "metadata": {},
   "outputs": [
    {
     "name": "stdout",
     "output_type": "stream",
     "text": [
      "\n",
      " Sample sentences from Cluster 0:\n"
     ]
    },
    {
     "data": {
      "text/html": [
       "<div>\n",
       "<style scoped>\n",
       "    .dataframe tbody tr th:only-of-type {\n",
       "        vertical-align: middle;\n",
       "    }\n",
       "\n",
       "    .dataframe tbody tr th {\n",
       "        vertical-align: top;\n",
       "    }\n",
       "\n",
       "    .dataframe thead th {\n",
       "        text-align: right;\n",
       "    }\n",
       "</style>\n",
       "<table border=\"1\" class=\"dataframe\">\n",
       "  <thead>\n",
       "    <tr style=\"text-align: right;\">\n",
       "      <th></th>\n",
       "      <th>input</th>\n",
       "      <th>cluster_kmeans</th>\n",
       "    </tr>\n",
       "  </thead>\n",
       "  <tbody>\n",
       "    <tr>\n",
       "      <th>48</th>\n",
       "      <td>guide patient infectious disease specialist pe...</td>\n",
       "      <td>0</td>\n",
       "    </tr>\n",
       "    <tr>\n",
       "      <th>265</th>\n",
       "      <td>wound care progress documentation healing traj...</td>\n",
       "      <td>0</td>\n",
       "    </tr>\n",
       "    <tr>\n",
       "      <th>252</th>\n",
       "      <td>transfer patient specialized stroke center com...</td>\n",
       "      <td>0</td>\n",
       "    </tr>\n",
       "    <tr>\n",
       "      <th>65</th>\n",
       "      <td>recovery notes patient demonstrating excellent...</td>\n",
       "      <td>0</td>\n",
       "    </tr>\n",
       "    <tr>\n",
       "      <th>248</th>\n",
       "      <td>route patient transplant surgery organ replace...</td>\n",
       "      <td>0</td>\n",
       "    </tr>\n",
       "  </tbody>\n",
       "</table>\n",
       "</div>"
      ],
      "text/plain": [
       "                                                 input  cluster_kmeans\n",
       "48   guide patient infectious disease specialist pe...               0\n",
       "265  wound care progress documentation healing traj...               0\n",
       "252  transfer patient specialized stroke center com...               0\n",
       "65   recovery notes patient demonstrating excellent...               0\n",
       "248  route patient transplant surgery organ replace...               0"
      ]
     },
     "metadata": {},
     "output_type": "display_data"
    },
    {
     "name": "stdout",
     "output_type": "stream",
     "text": [
      "\n",
      " Sample sentences from Cluster 1:\n"
     ]
    },
    {
     "data": {
      "text/html": [
       "<div>\n",
       "<style scoped>\n",
       "    .dataframe tbody tr th:only-of-type {\n",
       "        vertical-align: middle;\n",
       "    }\n",
       "\n",
       "    .dataframe tbody tr th {\n",
       "        vertical-align: top;\n",
       "    }\n",
       "\n",
       "    .dataframe thead th {\n",
       "        text-align: right;\n",
       "    }\n",
       "</style>\n",
       "<table border=\"1\" class=\"dataframe\">\n",
       "  <thead>\n",
       "    <tr style=\"text-align: right;\">\n",
       "      <th></th>\n",
       "      <th>input</th>\n",
       "      <th>cluster_kmeans</th>\n",
       "    </tr>\n",
       "  </thead>\n",
       "  <tbody>\n",
       "    <tr>\n",
       "      <th>198</th>\n",
       "      <td>healthcare costs extended care facility stay d...</td>\n",
       "      <td>1</td>\n",
       "    </tr>\n",
       "    <tr>\n",
       "      <th>274</th>\n",
       "      <td>healthcare economics analysis treatment option...</td>\n",
       "      <td>1</td>\n",
       "    </tr>\n",
       "    <tr>\n",
       "      <th>78</th>\n",
       "      <td>insurance processing notice claim 789123 servi...</td>\n",
       "      <td>1</td>\n",
       "    </tr>\n",
       "    <tr>\n",
       "      <th>90</th>\n",
       "      <td>service charges rehabilitation program partici...</td>\n",
       "      <td>1</td>\n",
       "    </tr>\n",
       "    <tr>\n",
       "      <th>222</th>\n",
       "      <td>healthcare financing consultation elective cos...</td>\n",
       "      <td>1</td>\n",
       "    </tr>\n",
       "  </tbody>\n",
       "</table>\n",
       "</div>"
      ],
      "text/plain": [
       "                                                 input  cluster_kmeans\n",
       "198  healthcare costs extended care facility stay d...               1\n",
       "274  healthcare economics analysis treatment option...               1\n",
       "78   insurance processing notice claim 789123 servi...               1\n",
       "90   service charges rehabilitation program partici...               1\n",
       "222  healthcare financing consultation elective cos...               1"
      ]
     },
     "metadata": {},
     "output_type": "display_data"
    },
    {
     "name": "stdout",
     "output_type": "stream",
     "text": [
      "\n",
      " Sample sentences from Cluster 2:\n"
     ]
    },
    {
     "data": {
      "text/html": [
       "<div>\n",
       "<style scoped>\n",
       "    .dataframe tbody tr th:only-of-type {\n",
       "        vertical-align: middle;\n",
       "    }\n",
       "\n",
       "    .dataframe tbody tr th {\n",
       "        vertical-align: top;\n",
       "    }\n",
       "\n",
       "    .dataframe thead th {\n",
       "        text-align: right;\n",
       "    }\n",
       "</style>\n",
       "<table border=\"1\" class=\"dataframe\">\n",
       "  <thead>\n",
       "    <tr style=\"text-align: right;\">\n",
       "      <th></th>\n",
       "      <th>input</th>\n",
       "      <th>cluster_kmeans</th>\n",
       "    </tr>\n",
       "  </thead>\n",
       "  <tbody>\n",
       "    <tr>\n",
       "      <th>45</th>\n",
       "      <td>rehabilitation progress report patient meeting...</td>\n",
       "      <td>2</td>\n",
       "    </tr>\n",
       "    <tr>\n",
       "      <th>172</th>\n",
       "      <td>connect patient addiction medicine specialist ...</td>\n",
       "      <td>2</td>\n",
       "    </tr>\n",
       "    <tr>\n",
       "      <th>117</th>\n",
       "      <td>treatment effectiveness notes patient showing ...</td>\n",
       "      <td>2</td>\n",
       "    </tr>\n",
       "    <tr>\n",
       "      <th>85</th>\n",
       "      <td>therapy session notes patient engagement excel...</td>\n",
       "      <td>2</td>\n",
       "    </tr>\n",
       "    <tr>\n",
       "      <th>200</th>\n",
       "      <td>connect patient pain management specialist chr...</td>\n",
       "      <td>2</td>\n",
       "    </tr>\n",
       "  </tbody>\n",
       "</table>\n",
       "</div>"
      ],
      "text/plain": [
       "                                                 input  cluster_kmeans\n",
       "45   rehabilitation progress report patient meeting...               2\n",
       "172  connect patient addiction medicine specialist ...               2\n",
       "117  treatment effectiveness notes patient showing ...               2\n",
       "85   therapy session notes patient engagement excel...               2\n",
       "200  connect patient pain management specialist chr...               2"
      ]
     },
     "metadata": {},
     "output_type": "display_data"
    },
    {
     "name": "stdout",
     "output_type": "stream",
     "text": [
      "\n",
      " Sample sentences from Cluster 3:\n"
     ]
    },
    {
     "data": {
      "text/html": [
       "<div>\n",
       "<style scoped>\n",
       "    .dataframe tbody tr th:only-of-type {\n",
       "        vertical-align: middle;\n",
       "    }\n",
       "\n",
       "    .dataframe tbody tr th {\n",
       "        vertical-align: top;\n",
       "    }\n",
       "\n",
       "    .dataframe thead th {\n",
       "        text-align: right;\n",
       "    }\n",
       "</style>\n",
       "<table border=\"1\" class=\"dataframe\">\n",
       "  <thead>\n",
       "    <tr style=\"text-align: right;\">\n",
       "      <th></th>\n",
       "      <th>input</th>\n",
       "      <th>cluster_kmeans</th>\n",
       "    </tr>\n",
       "  </thead>\n",
       "  <tbody>\n",
       "    <tr>\n",
       "      <th>207</th>\n",
       "      <td>clearance requested participation precision me...</td>\n",
       "      <td>3</td>\n",
       "    </tr>\n",
       "    <tr>\n",
       "      <th>63</th>\n",
       "      <td>prior approval requested genetic testing panel...</td>\n",
       "      <td>3</td>\n",
       "    </tr>\n",
       "    <tr>\n",
       "      <th>123</th>\n",
       "      <td>prior approval requested novel therapeutic int...</td>\n",
       "      <td>3</td>\n",
       "    </tr>\n",
       "    <tr>\n",
       "      <th>259</th>\n",
       "      <td>approval sought compassionate use biologic the...</td>\n",
       "      <td>3</td>\n",
       "    </tr>\n",
       "    <tr>\n",
       "      <th>279</th>\n",
       "      <td>approval sought investigational device compass...</td>\n",
       "      <td>3</td>\n",
       "    </tr>\n",
       "  </tbody>\n",
       "</table>\n",
       "</div>"
      ],
      "text/plain": [
       "                                                 input  cluster_kmeans\n",
       "207  clearance requested participation precision me...               3\n",
       "63   prior approval requested genetic testing panel...               3\n",
       "123  prior approval requested novel therapeutic int...               3\n",
       "259  approval sought compassionate use biologic the...               3\n",
       "279  approval sought investigational device compass...               3"
      ]
     },
     "metadata": {},
     "output_type": "display_data"
    },
    {
     "name": "stdout",
     "output_type": "stream",
     "text": [
      "\n",
      " Sample sentences from Cluster 4:\n"
     ]
    },
    {
     "data": {
      "text/html": [
       "<div>\n",
       "<style scoped>\n",
       "    .dataframe tbody tr th:only-of-type {\n",
       "        vertical-align: middle;\n",
       "    }\n",
       "\n",
       "    .dataframe tbody tr th {\n",
       "        vertical-align: top;\n",
       "    }\n",
       "\n",
       "    .dataframe thead th {\n",
       "        text-align: right;\n",
       "    }\n",
       "</style>\n",
       "<table border=\"1\" class=\"dataframe\">\n",
       "  <thead>\n",
       "    <tr style=\"text-align: right;\">\n",
       "      <th></th>\n",
       "      <th>input</th>\n",
       "      <th>cluster_kmeans</th>\n",
       "    </tr>\n",
       "  </thead>\n",
       "  <tbody>\n",
       "    <tr>\n",
       "      <th>73</th>\n",
       "      <td>medication effectiveness notes patient tolerat...</td>\n",
       "      <td>4</td>\n",
       "    </tr>\n",
       "    <tr>\n",
       "      <th>105</th>\n",
       "      <td>medication monitoring log patient compliance e...</td>\n",
       "      <td>4</td>\n",
       "    </tr>\n",
       "    <tr>\n",
       "      <th>181</th>\n",
       "      <td>patient monitoring documentation blood glucose...</td>\n",
       "      <td>4</td>\n",
       "    </tr>\n",
       "    <tr>\n",
       "      <th>269</th>\n",
       "      <td>medication effectiveness evaluation patient re...</td>\n",
       "      <td>4</td>\n",
       "    </tr>\n",
       "    <tr>\n",
       "      <th>197</th>\n",
       "      <td>medication administration record patient toler...</td>\n",
       "      <td>4</td>\n",
       "    </tr>\n",
       "  </tbody>\n",
       "</table>\n",
       "</div>"
      ],
      "text/plain": [
       "                                                 input  cluster_kmeans\n",
       "73   medication effectiveness notes patient tolerat...               4\n",
       "105  medication monitoring log patient compliance e...               4\n",
       "181  patient monitoring documentation blood glucose...               4\n",
       "269  medication effectiveness evaluation patient re...               4\n",
       "197  medication administration record patient toler...               4"
      ]
     },
     "metadata": {},
     "output_type": "display_data"
    },
    {
     "name": "stdout",
     "output_type": "stream",
     "text": [
      "\n",
      " Sample sentences from Cluster 5:\n"
     ]
    },
    {
     "data": {
      "text/html": [
       "<div>\n",
       "<style scoped>\n",
       "    .dataframe tbody tr th:only-of-type {\n",
       "        vertical-align: middle;\n",
       "    }\n",
       "\n",
       "    .dataframe tbody tr th {\n",
       "        vertical-align: top;\n",
       "    }\n",
       "\n",
       "    .dataframe thead th {\n",
       "        text-align: right;\n",
       "    }\n",
       "</style>\n",
       "<table border=\"1\" class=\"dataframe\">\n",
       "  <thead>\n",
       "    <tr style=\"text-align: right;\">\n",
       "      <th></th>\n",
       "      <th>input</th>\n",
       "      <th>cluster_kmeans</th>\n",
       "    </tr>\n",
       "  </thead>\n",
       "  <tbody>\n",
       "    <tr>\n",
       "      <th>276</th>\n",
       "      <td>route patient emergency surgery lifethreatenin...</td>\n",
       "      <td>5</td>\n",
       "    </tr>\n",
       "    <tr>\n",
       "      <th>264</th>\n",
       "      <td>send patient interventional neuroradiology cer...</td>\n",
       "      <td>5</td>\n",
       "    </tr>\n",
       "    <tr>\n",
       "      <th>52</th>\n",
       "      <td>route patient hematology blood disorder invest...</td>\n",
       "      <td>5</td>\n",
       "    </tr>\n",
       "    <tr>\n",
       "      <th>19</th>\n",
       "      <td>approval needed home health services starting ...</td>\n",
       "      <td>5</td>\n",
       "    </tr>\n",
       "    <tr>\n",
       "      <th>24</th>\n",
       "      <td>direct patient oncology department cancer scre...</td>\n",
       "      <td>5</td>\n",
       "    </tr>\n",
       "  </tbody>\n",
       "</table>\n",
       "</div>"
      ],
      "text/plain": [
       "                                                 input  cluster_kmeans\n",
       "276  route patient emergency surgery lifethreatenin...               5\n",
       "264  send patient interventional neuroradiology cer...               5\n",
       "52   route patient hematology blood disorder invest...               5\n",
       "19   approval needed home health services starting ...               5\n",
       "24   direct patient oncology department cancer scre...               5"
      ]
     },
     "metadata": {},
     "output_type": "display_data"
    }
   ],
   "source": [
    "# View sample sentences from each cluster\n",
    "for cluster_num in sorted(df_clean['cluster_kmeans'].unique()):\n",
    "    print(f\"\\n Sample sentences from Cluster {cluster_num}:\")\n",
    "    display(df_clean[df_clean['cluster_kmeans'] == cluster_num].sample(5))\n"
   ]
  },
  {
   "cell_type": "code",
   "execution_count": 18,
   "id": "94a06d6c",
   "metadata": {},
   "outputs": [],
   "source": [
    "# Define clean and realistic theme names for each KMeans cluster\n",
    "theme_map = {\n",
    "    0: \"CriticalCare\",\n",
    "    1: \"Billing\",\n",
    "    2: \"RecoveryNotes\",\n",
    "    3: \"Authorizations\",\n",
    "    4: \"MedicationMonitoring\",\n",
    "    5: \"Referrals\"\n",
    "}\n",
    "\n",
    "\n",
    "# Apply the mapping to your DataFrame\n",
    "df_clean['cluster_theme'] = df_clean['cluster_kmeans'].map(theme_map)\n"
   ]
  },
  {
   "cell_type": "code",
   "execution_count": 19,
   "id": "d22d0180",
   "metadata": {},
   "outputs": [
    {
     "data": {
      "text/html": [
       "<div>\n",
       "<style scoped>\n",
       "    .dataframe tbody tr th:only-of-type {\n",
       "        vertical-align: middle;\n",
       "    }\n",
       "\n",
       "    .dataframe tbody tr th {\n",
       "        vertical-align: top;\n",
       "    }\n",
       "\n",
       "    .dataframe thead th {\n",
       "        text-align: right;\n",
       "    }\n",
       "</style>\n",
       "<table border=\"1\" class=\"dataframe\">\n",
       "  <thead>\n",
       "    <tr style=\"text-align: right;\">\n",
       "      <th></th>\n",
       "      <th>input</th>\n",
       "      <th>cluster_kmeans</th>\n",
       "      <th>cluster_theme</th>\n",
       "    </tr>\n",
       "  </thead>\n",
       "  <tbody>\n",
       "    <tr>\n",
       "      <th>0</th>\n",
       "      <td>patient john smith needs directed orthopedic s...</td>\n",
       "      <td>5</td>\n",
       "      <td>Referrals</td>\n",
       "    </tr>\n",
       "    <tr>\n",
       "      <th>1</th>\n",
       "      <td>progress report patient case 4521 current symp...</td>\n",
       "      <td>2</td>\n",
       "      <td>RecoveryNotes</td>\n",
       "    </tr>\n",
       "    <tr>\n",
       "      <th>2</th>\n",
       "      <td>invoice inv2024001 physical therapy sessions t...</td>\n",
       "      <td>1</td>\n",
       "      <td>Billing</td>\n",
       "    </tr>\n",
       "    <tr>\n",
       "      <th>3</th>\n",
       "      <td>prior approval required mri scan scheduled nex...</td>\n",
       "      <td>5</td>\n",
       "      <td>Referrals</td>\n",
       "    </tr>\n",
       "    <tr>\n",
       "      <th>4</th>\n",
       "      <td>directing patient mary johnson cardiology depa...</td>\n",
       "      <td>5</td>\n",
       "      <td>Referrals</td>\n",
       "    </tr>\n",
       "    <tr>\n",
       "      <th>5</th>\n",
       "      <td>patient assessment summary blood pressure 120/...</td>\n",
       "      <td>0</td>\n",
       "      <td>CriticalCare</td>\n",
       "    </tr>\n",
       "    <tr>\n",
       "      <th>6</th>\n",
       "      <td>statement charges outpatient services rendered...</td>\n",
       "      <td>1</td>\n",
       "      <td>Billing</td>\n",
       "    </tr>\n",
       "    <tr>\n",
       "      <th>7</th>\n",
       "      <td>request preapproval submitted surgical procedu...</td>\n",
       "      <td>5</td>\n",
       "      <td>Referrals</td>\n",
       "    </tr>\n",
       "    <tr>\n",
       "      <th>8</th>\n",
       "      <td>forwarding patient neurology clinic headache e...</td>\n",
       "      <td>0</td>\n",
       "      <td>CriticalCare</td>\n",
       "    </tr>\n",
       "    <tr>\n",
       "      <th>9</th>\n",
       "      <td>clinical notes todays examination patient repo...</td>\n",
       "      <td>2</td>\n",
       "      <td>RecoveryNotes</td>\n",
       "    </tr>\n",
       "  </tbody>\n",
       "</table>\n",
       "</div>"
      ],
      "text/plain": [
       "                                               input  cluster_kmeans  \\\n",
       "0  patient john smith needs directed orthopedic s...               5   \n",
       "1  progress report patient case 4521 current symp...               2   \n",
       "2  invoice inv2024001 physical therapy sessions t...               1   \n",
       "3  prior approval required mri scan scheduled nex...               5   \n",
       "4  directing patient mary johnson cardiology depa...               5   \n",
       "5  patient assessment summary blood pressure 120/...               0   \n",
       "6  statement charges outpatient services rendered...               1   \n",
       "7  request preapproval submitted surgical procedu...               5   \n",
       "8  forwarding patient neurology clinic headache e...               0   \n",
       "9  clinical notes todays examination patient repo...               2   \n",
       "\n",
       "   cluster_theme  \n",
       "0      Referrals  \n",
       "1  RecoveryNotes  \n",
       "2        Billing  \n",
       "3      Referrals  \n",
       "4      Referrals  \n",
       "5   CriticalCare  \n",
       "6        Billing  \n",
       "7      Referrals  \n",
       "8   CriticalCare  \n",
       "9  RecoveryNotes  "
      ]
     },
     "execution_count": 19,
     "metadata": {},
     "output_type": "execute_result"
    }
   ],
   "source": [
    "df_clean.head(10)\n"
   ]
  },
  {
   "cell_type": "code",
   "execution_count": 20,
   "id": "a99dbae1",
   "metadata": {},
   "outputs": [
    {
     "name": "stdout",
     "output_type": "stream",
     "text": [
      "Silhouette Score: 0.5433\n"
     ]
    }
   ],
   "source": [
    "# Evaluation.\n",
    "from sklearn.metrics import silhouette_score\n",
    "\n",
    "# Evaluate KMeans clustering using reduced embeddings\n",
    "score = silhouette_score(reduced_embeddings, df_clean['cluster_kmeans'])\n",
    "\n",
    "print(f\"Silhouette Score: {score:.4f}\")\n"
   ]
  },
  {
   "cell_type": "code",
   "execution_count": 21,
   "id": "5ab6c1cb",
   "metadata": {},
   "outputs": [
    {
     "name": "stdout",
     "output_type": "stream",
     "text": [
      "Davies-Bouldin Score: 0.7687\n"
     ]
    }
   ],
   "source": [
    "#Davies-Bouldin Index (DBI)\n",
    "from sklearn.metrics import davies_bouldin_score\n",
    "\n",
    "db_score = davies_bouldin_score(reduced_embeddings, df_clean['cluster_kmeans'])\n",
    "print(f\"Davies-Bouldin Score: {db_score:.4f}\")\n"
   ]
  },
  {
   "cell_type": "code",
   "execution_count": 22,
   "id": "36b3d16f",
   "metadata": {},
   "outputs": [
    {
     "name": "stdout",
     "output_type": "stream",
     "text": [
      "Calinski-Harabasz Score: 2430.53\n"
     ]
    }
   ],
   "source": [
    "#Calinski-Harabasz Score (CHI)\n",
    "from sklearn.metrics import calinski_harabasz_score\n",
    "\n",
    "ch_score = calinski_harabasz_score(reduced_embeddings, df_clean['cluster_kmeans'])\n",
    "print(f\"Calinski-Harabasz Score: {ch_score:.2f}\")\n"
   ]
  },
  {
   "cell_type": "markdown",
   "id": "f6e49263",
   "metadata": {},
   "source": [
    "## Final Evaluation Summary\n",
    "\n",
    "To evaluate the quality of the KMeans clustering on the SBERT-based sentence embeddings, the following internal clustering metrics were calculated:\n",
    "\n",
    "- **Silhouette Score:** `0.5433`\n",
    "  - Indicates **good internal consistency**.\n",
    "  - Sentences are more similar to those in their own cluster than to other clusters.\n",
    "\n",
    "- **Davies-Bouldin Index:** `0.7687`\n",
    "  - A **lower score** implies **better-separated and tighter clusters**.\n",
    "  - A score below 1 is typically considered good.\n",
    "\n",
    "- **Calinski-Harabasz Score:** `2430.53`\n",
    "  - A **very high score**, suggesting clusters are **well-dispersed** and **well-separated**.\n",
    "\n",
    "###  Visual Check\n",
    "The 2D UMAP projection of the clusters showed clear visual separation, further validating the quality of the clustering.\n",
    "\n",
    "---\n",
    "\n",
    "###  Conclusion:\n",
    "The combination of **SBERT embeddings**, **UMAP dimensionality reduction**, and **KMeans clustering** yielded high-quality and interpretable clusters from unstructured medical sentence data. These clusters align with real-world themes like billing, transfers, medication, etc., and the evaluation metrics support their reliability.\n"
   ]
  },
  {
   "cell_type": "code",
   "execution_count": 23,
   "id": "ec498fd3",
   "metadata": {},
   "outputs": [
    {
     "name": "stderr",
     "output_type": "stream",
     "text": [
      "c:\\Users\\91798\\OneDrive\\Desktop\\clustering\\venv\\Lib\\site-packages\\umap\\umap_.py:1952: UserWarning: n_jobs value 1 overridden to 1 by setting random_state. Use no seed for parallelism.\n",
      "  warn(\n"
     ]
    }
   ],
   "source": [
    "# Reduce embeddings to 2D just for visualization\n",
    "umap_2d = umap.UMAP(n_components=2, random_state=42).fit_transform(embeddings)\n"
   ]
  },
  {
   "cell_type": "code",
   "execution_count": 24,
   "id": "a4629185",
   "metadata": {},
   "outputs": [
    {
     "data": {
      "image/png": "[encoded data removed]",
      "text/plain": [
       "<Figure size 1000x700 with 1 Axes>"
      ]
     },
     "metadata": {},
     "output_type": "display_data"
    }
   ],
   "source": [
    "#Visualization\n",
    "\n",
    "import matplotlib.pyplot as plt\n",
    "import seaborn as sns\n",
    "import pandas as pd\n",
    "\n",
    "#  Step 1: Define your theme names\n",
    "cluster_labels_dict = {\n",
    "    0: \"CriticalCare\",\n",
    "    1: \"Billing\",\n",
    "    2: \"RecoveryNotes\",\n",
    "    3: \"Authorizations\",\n",
    "    4: \"MedicationMonitoring\",\n",
    "    5: \"Referrals\"\n",
    "}\n",
    "\n",
    "#  Step 2: Map cluster IDs to theme labels\n",
    "df_clean['cluster_theme'] = df_clean['cluster_kmeans'].map(cluster_labels_dict)\n",
    "\n",
    "#  Step 3: Plot UMAP with themes\n",
    "plt.figure(figsize=(10, 7))\n",
    "sns.scatterplot(\n",
    "    x=umap_2d[:, 0],\n",
    "    y=umap_2d[:, 1],\n",
    "    hue=df_clean['cluster_theme'],\n",
    "    palette='tab10',\n",
    "    s=60,\n",
    "    edgecolor='black',\n",
    "    linewidth=0.5\n",
    ")\n",
    "\n",
    "plt.title(\"KMeans Clustering on Medical Text (UMAP 2D)\", fontsize=15)\n",
    "plt.xlabel(\"UMAP Dimension 1\")\n",
    "plt.ylabel(\"UMAP Dimension 2\")\n",
    "plt.legend(title=\"Cluster Theme\", bbox_to_anchor=(1.05, 1), loc='upper left')\n",
    "plt.tight_layout()\n",
    "plt.show()\n"
   ]
  }
 ],
 "metadata": {
  "kernelspec": {
   "display_name": "venv",
   "language": "python",
   "name": "python3"
  },
  "language_info": {
   "codemirror_mode": {
    "name": "ipython",
    "version": 3
   },
   "file_extension": ".py",
   "mimetype": "text/x-python",
   "name": "python",
   "nbconvert_exporter": "python",
   "pygments_lexer": "ipython3",
   "version": "3.11.9"
  }
 },
 "nbformat": 4,
 "nbformat_minor": 5
}
